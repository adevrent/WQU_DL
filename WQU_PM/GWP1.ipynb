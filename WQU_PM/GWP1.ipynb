{
 "cells": [
  {
   "cell_type": "markdown",
   "id": "0cdd4768",
   "metadata": {},
   "source": [
    "## CAPM\n",
    "\n",
    "$\\large R_i - R_f = \\beta_i (R_m - R_f)$\n",
    "\n",
    "$\\large \\beta_i = \\Large \\frac{Cov(R_i, R_m)}{Var{R_m}} \\large = \\Large \\frac{\\sigma_{im}}{\\sigma_m^2}$\n",
    "\n",
    "where\n",
    "\n",
    "* $R_i:$ asset return\n",
    "* $R_f:$ risk-free return\n",
    "* $\\beta_i:$ asset beta to market\n",
    "\n",
    "$ $\n",
    "\n",
    "* **CAPM** is a 1 factor model, where the only factor is the **market risk**, which is $\\sigma_m^2 = Var(r_m)$, where $r_m$ is the **market return**.\n",
    "* **CAPM** assumes **market beta** alone explains asset returns\n"
   ]
  }
 ],
 "metadata": {
  "language_info": {
   "name": "python"
  }
 },
 "nbformat": 4,
 "nbformat_minor": 5
}
