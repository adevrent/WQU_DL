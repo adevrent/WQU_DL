{
 "cells": [
  {
   "cell_type": "markdown",
   "id": "0cdd4768",
   "metadata": {},
   "source": [
    "# CAPM\n",
    "\n",
    "$\\large R - R_f = \\beta (R_m - R_f) + \\varepsilon$\n",
    "\n",
    "$\\large \\beta = \\Large \\frac{Cov(R, R_m)}{Var({R_m})} \\large = \\Large \\frac{\\sigma_{im}}{\\sigma_m^2}$\n",
    "\n",
    "where\n",
    "\n",
    "* $R:$ asset return\n",
    "* $R_f:$ risk-free return\n",
    "* $R_m:$ market return\n",
    "* $\\beta:$ asset sensitivity to market return\n",
    "* $\\varepsilon:$ unexplained error\n",
    "\n",
    "$ $\n",
    "\n",
    "* **CAPM** is a 1 factor model, where the only factor is the **market risk**, which is $\\sigma_m^2 = Var(r_m)$, where $r_m$ is the **market return**.\n",
    "* **CAPM** assumes **market beta** alone explains asset returns\n",
    "* A higher $\\beta$ implies higher required return to compensate for higher systematic risk. If an asset’s actual returns differ significantly from CAPM’s prediction, that deviation is explained by alpha ($\\alpha$) in a regression: $R_i - R_f = \\alpha + \\beta (R_m - R_f) + \\varepsilon \\quad$ A positive alpha suggests the asset outperformed what CAPM would forecast (perhaps due to skill or other risk factors not captured by beta), whereas a negative alpha suggests underperformance compared to CAPM forecast."
   ]
  },
  {
   "cell_type": "markdown",
   "id": "1dcc713b",
   "metadata": {},
   "source": [
    "# FF3 (Fama-French Three-Factor Model)\n",
    "\n",
    "$\\large R - R_f = \\beta_1 (R_m - R_f) + \\beta_2 (\\text{SMB}) + \\beta_3 (\\text{HML}) + \\varepsilon $\n",
    "\n",
    "where\n",
    "\n",
    "* $R:$ asset return\n",
    "* $R_f:$ risk-free return\n",
    "* $R_m:$ market return\n",
    "* $\\beta_1:$ asset sensitivity to market return\n",
    "* $\\beta_2:$ asset sensitivity to SMB (Small Minus Big) factor\n",
    "* $\\text{SMB}$ (Small Minus Big): Historic **excess** returns of small-cap companies over large-cap companies\n",
    "* $\\beta_3:$ asset sensitivity to HML (High Minus Low) factor\n",
    "* $\\text{HML}$ (High Minus Low): Historic **excess** returns of **value** stocks (high book-to-price ratio) over **growth** stocks (low book-to-price ratio)\n",
    "* $\\varepsilon:$ unexplained error\n",
    "\n",
    "**Small Minus Big (SMB)** factor is a size effect by the market capitalization of a firm. SMB identifies the historical differential of small-cap companies from those of large-cap companies. Once SMB is found, its beta coefficient ($\\beta_2$) can be estimated using linear regression. The main reason behind this factor is that, in the long term, small-cap companies tend to get a higher return compared to big-cap business companies.\n",
    "\n",
    "**High Minus Low (HML)** factor can be considered as a value premium. It captures the differential in value company returns between value firms with a high book-to-market value ratio and firms with low book-to-market value ratios. Like the SMB factor, after the HML factor is calculated, its beta coefficient ($\\beta_3$) can also be determined through linear regression. The HML factor indicates that, over the long term, value stocks (high book-to-market ratio) have superior returns to growth stocks (low book-to-market ratio)."
   ]
  },
  {
   "cell_type": "markdown",
   "id": "f795eba6",
   "metadata": {},
   "source": [
    "# FF5 (Fama-French Five-Factor Model)\n",
    "\n",
    "$\\large R - R_f = \\beta_1 (R_m - R_f) + \\beta_2 (\\text{SMB}) + \\beta_3 (\\text{HML}) + \\beta_4 (\\text{RMW}) + \\beta_5 (\\text{CMA}) + \\varepsilon $\n",
    "\n",
    "where\n",
    "\n",
    "* $R:$ asset return\n",
    "* $R_f:$ risk-free return\n",
    "* $R_m:$ market return\n",
    "* $\\beta_1:$ asset sensitivity to market return\n",
    "* $\\beta_2:$ asset sensitivity to SMB (Small Minus Big) factor\n",
    "* $\\text{SMB}$ (Small Minus Big): Historic **excess** returns of small-cap companies over large-cap companies\n",
    "* $\\beta_3:$ asset sensitivity to HML (High Minus Low) factor\n",
    "* $\\text{HML}$ (High Minus Low): Historic **excess** returns of **value** stocks (high book-to-price ratio) over **growth** stocks (low book-to-price ratio)\n",
    "* $\\beta_4:$ asset sensitivity to RMW (Robust Minus Weak) factor\n",
    "* $\\text{RMW}$ (Robust Minus Weak): The difference between diversified portfolios of high profitability stocks' returns minus the returns of diversified\n",
    "portfolio of weakly profitable stocks.\n",
    "* $\\beta_5:$ asset sensitivity to CMA (Conservative Minus Aggressive) factor\n",
    "* $\\text{CMA}$ (Conservative Minus Aggressive): Return difference between diversified portfolios of low investment stocks and return difference of diversified portfolios\n",
    "of highly invested shares.\n",
    "\n",
    "* $\\varepsilon:$ unexplained error"
   ]
  },
  {
   "cell_type": "markdown",
   "id": "90f0517d",
   "metadata": {},
   "source": [
    "### References:\n",
    "* https://corporatefinanceinstitute.com/resources/valuation/fama-french-three-factor-model/\n",
    "* Ozkan, N. (2018). Fama-French five factor model and the necessity of value factor: Evidence from Istanbul Stock Exchange. PressAcademia\n",
    "Procedia (PAP), V.8, p.14-17.\n",
    "* https://mba.tuck.dartmouth.edu/pages/faculty/ken.french/Data_Library/f-f_factors.html"
   ]
  }
 ],
 "metadata": {
  "language_info": {
   "name": "python"
  }
 },
 "nbformat": 4,
 "nbformat_minor": 5
}
