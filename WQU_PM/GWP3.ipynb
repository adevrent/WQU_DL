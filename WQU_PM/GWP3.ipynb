{
 "cells": [
  {
   "cell_type": "markdown",
   "id": "c0193c0f",
   "metadata": {},
   "source": [
    "# GWP 3"
   ]
  },
  {
   "cell_type": "code",
   "execution_count": null,
   "id": "9af8f202",
   "metadata": {},
   "outputs": [],
   "source": []
  }
 ],
 "metadata": {
  "language_info": {
   "name": "python"
  }
 },
 "nbformat": 4,
 "nbformat_minor": 5
}
