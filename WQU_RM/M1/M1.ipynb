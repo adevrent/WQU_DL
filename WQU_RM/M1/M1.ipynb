{
 "cells": [
  {
   "cell_type": "markdown",
   "id": "71f95529",
   "metadata": {},
   "source": [
    "# Lesson 2"
   ]
  },
  {
   "cell_type": "code",
   "execution_count": 9,
   "id": "0ae7c915",
   "metadata": {},
   "outputs": [
    {
     "data": {
      "text/html": [
       "<div>\n",
       "<style scoped>\n",
       "    .dataframe tbody tr th:only-of-type {\n",
       "        vertical-align: middle;\n",
       "    }\n",
       "\n",
       "    .dataframe tbody tr th {\n",
       "        vertical-align: top;\n",
       "    }\n",
       "\n",
       "    .dataframe thead th {\n",
       "        text-align: right;\n",
       "    }\n",
       "</style>\n",
       "<table border=\"1\" class=\"dataframe\">\n",
       "  <thead>\n",
       "    <tr style=\"text-align: right;\">\n",
       "      <th></th>\n",
       "      <th>year</th>\n",
       "      <th>quarter</th>\n",
       "      <th>realgdp</th>\n",
       "      <th>realcons</th>\n",
       "      <th>realinv</th>\n",
       "      <th>realgovt</th>\n",
       "      <th>realdpi</th>\n",
       "      <th>cpi</th>\n",
       "      <th>m1</th>\n",
       "      <th>tbilrate</th>\n",
       "      <th>unemp</th>\n",
       "      <th>pop</th>\n",
       "      <th>infl</th>\n",
       "      <th>realint</th>\n",
       "    </tr>\n",
       "  </thead>\n",
       "  <tbody>\n",
       "    <tr>\n",
       "      <th>0</th>\n",
       "      <td>1959.0</td>\n",
       "      <td>1.0</td>\n",
       "      <td>2710.349</td>\n",
       "      <td>1707.4</td>\n",
       "      <td>286.898</td>\n",
       "      <td>470.045</td>\n",
       "      <td>1886.9</td>\n",
       "      <td>28.98</td>\n",
       "      <td>139.7</td>\n",
       "      <td>2.82</td>\n",
       "      <td>5.8</td>\n",
       "      <td>177.146</td>\n",
       "      <td>0.00</td>\n",
       "      <td>0.00</td>\n",
       "    </tr>\n",
       "    <tr>\n",
       "      <th>1</th>\n",
       "      <td>1959.0</td>\n",
       "      <td>2.0</td>\n",
       "      <td>2778.801</td>\n",
       "      <td>1733.7</td>\n",
       "      <td>310.859</td>\n",
       "      <td>481.301</td>\n",
       "      <td>1919.7</td>\n",
       "      <td>29.15</td>\n",
       "      <td>141.7</td>\n",
       "      <td>3.08</td>\n",
       "      <td>5.1</td>\n",
       "      <td>177.830</td>\n",
       "      <td>2.34</td>\n",
       "      <td>0.74</td>\n",
       "    </tr>\n",
       "    <tr>\n",
       "      <th>2</th>\n",
       "      <td>1959.0</td>\n",
       "      <td>3.0</td>\n",
       "      <td>2775.488</td>\n",
       "      <td>1751.8</td>\n",
       "      <td>289.226</td>\n",
       "      <td>491.260</td>\n",
       "      <td>1916.4</td>\n",
       "      <td>29.35</td>\n",
       "      <td>140.5</td>\n",
       "      <td>3.82</td>\n",
       "      <td>5.3</td>\n",
       "      <td>178.657</td>\n",
       "      <td>2.74</td>\n",
       "      <td>1.09</td>\n",
       "    </tr>\n",
       "    <tr>\n",
       "      <th>3</th>\n",
       "      <td>1959.0</td>\n",
       "      <td>4.0</td>\n",
       "      <td>2785.204</td>\n",
       "      <td>1753.7</td>\n",
       "      <td>299.356</td>\n",
       "      <td>484.052</td>\n",
       "      <td>1931.3</td>\n",
       "      <td>29.37</td>\n",
       "      <td>140.0</td>\n",
       "      <td>4.33</td>\n",
       "      <td>5.6</td>\n",
       "      <td>179.386</td>\n",
       "      <td>0.27</td>\n",
       "      <td>4.06</td>\n",
       "    </tr>\n",
       "    <tr>\n",
       "      <th>4</th>\n",
       "      <td>1960.0</td>\n",
       "      <td>1.0</td>\n",
       "      <td>2847.699</td>\n",
       "      <td>1770.5</td>\n",
       "      <td>331.722</td>\n",
       "      <td>462.199</td>\n",
       "      <td>1955.5</td>\n",
       "      <td>29.54</td>\n",
       "      <td>139.6</td>\n",
       "      <td>3.50</td>\n",
       "      <td>5.2</td>\n",
       "      <td>180.007</td>\n",
       "      <td>2.31</td>\n",
       "      <td>1.19</td>\n",
       "    </tr>\n",
       "  </tbody>\n",
       "</table>\n",
       "</div>"
      ],
      "text/plain": [
       "     year  quarter   realgdp  realcons  realinv  realgovt  realdpi    cpi  \\\n",
       "0  1959.0      1.0  2710.349    1707.4  286.898   470.045   1886.9  28.98   \n",
       "1  1959.0      2.0  2778.801    1733.7  310.859   481.301   1919.7  29.15   \n",
       "2  1959.0      3.0  2775.488    1751.8  289.226   491.260   1916.4  29.35   \n",
       "3  1959.0      4.0  2785.204    1753.7  299.356   484.052   1931.3  29.37   \n",
       "4  1960.0      1.0  2847.699    1770.5  331.722   462.199   1955.5  29.54   \n",
       "\n",
       "      m1  tbilrate  unemp      pop  infl  realint  \n",
       "0  139.7      2.82    5.8  177.146  0.00     0.00  \n",
       "1  141.7      3.08    5.1  177.830  2.34     0.74  \n",
       "2  140.5      3.82    5.3  178.657  2.74     1.09  \n",
       "3  140.0      4.33    5.6  179.386  0.27     4.06  \n",
       "4  139.6      3.50    5.2  180.007  2.31     1.19  "
      ]
     },
     "execution_count": 9,
     "metadata": {},
     "output_type": "execute_result"
    }
   ],
   "source": [
    "import statsmodels.api as sm\n",
    "import numpy as np\n",
    "from statsmodels.tsa.stattools import grangercausalitytests\n",
    "\n",
    "import pandas as pd\n",
    "\n",
    "data = sm.datasets.macrodata.load_pandas()\n",
    "data = data.data\n",
    "data.head()"
   ]
  },
  {
   "cell_type": "code",
   "execution_count": 10,
   "id": "f6d6f9be",
   "metadata": {},
   "outputs": [
    {
     "name": "stdout",
     "output_type": "stream",
     "text": [
      "\n",
      "Granger Causality\n",
      "number of lags (no zero) 1\n",
      "ssr based F test:         F=28.7248 , p=0.0000  , df_denom=198, df_num=1\n",
      "ssr based chi2 test:   chi2=29.1600 , p=0.0000  , df=1\n",
      "likelihood ratio test: chi2=27.2295 , p=0.0000  , df=1\n",
      "parameter F test:         F=28.7248 , p=0.0000  , df_denom=198, df_num=1\n",
      "\n",
      "Granger Causality\n",
      "number of lags (no zero) 2\n",
      "ssr based F test:         F=18.9880 , p=0.0000  , df_denom=195, df_num=2\n",
      "ssr based chi2 test:   chi2=38.9498 , p=0.0000  , df=2\n",
      "likelihood ratio test: chi2=35.5873 , p=0.0000  , df=2\n",
      "parameter F test:         F=18.9880 , p=0.0000  , df_denom=195, df_num=2\n",
      "\n",
      "Granger Causality\n",
      "number of lags (no zero) 3\n",
      "ssr based F test:         F=13.5015 , p=0.0000  , df_denom=192, df_num=3\n",
      "ssr based chi2 test:   chi2=41.9812 , p=0.0000  , df=3\n",
      "likelihood ratio test: chi2=38.0914 , p=0.0000  , df=3\n",
      "parameter F test:         F=13.5015 , p=0.0000  , df_denom=192, df_num=3\n"
     ]
    }
   ],
   "source": [
    "data = data[[\"realgdp\", \"realcons\"]].pct_change().dropna()\n",
    "\n",
    "gc_res = grangercausalitytests(data, 3)"
   ]
  },
  {
   "cell_type": "code",
   "execution_count": 16,
   "id": "f17ffabe",
   "metadata": {},
   "outputs": [
    {
     "name": "stderr",
     "output_type": "stream",
     "text": [
      "C:\\Users\\adevr\\AppData\\Local\\Temp\\ipykernel_23396\\483767198.py:1: FutureWarning: Passing a DataFrame to DataFrame.from_records is deprecated. Use set_index and/or drop to modify the DataFrame instead.\n",
      "  df = pd.DataFrame.from_records(sm.datasets.macrodata.load().data)\n"
     ]
    }
   ],
   "source": [
    "df = pd.DataFrame.from_records(sm.datasets.macrodata.load().data)\n",
    "\n",
    "def granger_causation_matrix(data, variables, test, verbose=False):\n",
    "    x = pd.DataFrame(np.zeros((len(variables),len(variables))), columns=variables,index=variables)\n",
    "    for c in x.columns:\n",
    "        for r in x.index:\n",
    "            test_result = grangercausalitytests(data[[r,c]], maxlag=maxlag, verbose=False)\n",
    "            p_values = [round(test_result[i+1][0][test][1],4) for i in range(maxlag)]\n",
    "            if verbose:\n",
    "                print(f'Y = {r}, X= {c},P Values = {p_values}')\n",
    "            min_p_value = np.min(p_values)\n",
    "            x.loc[r,c] = min_p_value\n",
    "            x.columns = [var + '_x' for var in variables]\n",
    "            x.index = [var + '_y' for var in variables]\n",
    "\n",
    "    return x\n",
    "\n",
    "maxlag = 4\n",
    "\n",
    "# granger_causation_matrix(df, df.columns, 'ssr_ftest', verbose=True)\n"
   ]
  },
  {
   "cell_type": "markdown",
   "id": "b5a038a0",
   "metadata": {},
   "source": [
    "# Lesson 3"
   ]
  },
  {
   "cell_type": "code",
   "execution_count": 21,
   "id": "2b867bd0",
   "metadata": {},
   "outputs": [
    {
     "data": {
      "text/plain": [
       "array([[ 1. , -0.1, -0.1, -0.1, -0.1, -0.1, -0.1, -0.1, -0.1, -0.1],\n",
       "       [-0.1,  1. , -0.1, -0.1, -0.1, -0.1, -0.1, -0.1, -0.1, -0.1],\n",
       "       [-0.1, -0.1,  1. , -0.1, -0.1, -0.1, -0.1, -0.1, -0.1, -0.1],\n",
       "       [-0.1, -0.1, -0.1,  1. , -0.1, -0.1, -0.1, -0.1, -0.1, -0.1],\n",
       "       [-0.1, -0.1, -0.1, -0.1,  1. , -0.1, -0.1, -0.1, -0.1, -0.1],\n",
       "       [-0.1, -0.1, -0.1, -0.1, -0.1,  1. , -0.1, -0.1, -0.1, -0.1],\n",
       "       [-0.1, -0.1, -0.1, -0.1, -0.1, -0.1,  1. , -0.1, -0.1, -0.1],\n",
       "       [-0.1, -0.1, -0.1, -0.1, -0.1, -0.1, -0.1,  1. , -0.1, -0.1],\n",
       "       [-0.1, -0.1, -0.1, -0.1, -0.1, -0.1, -0.1, -0.1,  1. , -0.1],\n",
       "       [-0.1, -0.1, -0.1, -0.1, -0.1, -0.1, -0.1, -0.1, -0.1,  1. ]])"
      ]
     },
     "execution_count": 21,
     "metadata": {},
     "output_type": "execute_result"
    }
   ],
   "source": [
    "default_probabilities = np.ones(10) / 10\n",
    "neg_corr = np.ones((10, 10)) * -0.1\n",
    "neg_corr = neg_corr + np.eye(10) * 1.1\n",
    "neg_corr"
   ]
  },
  {
   "cell_type": "code",
   "execution_count": 22,
   "id": "0d1a97ac",
   "metadata": {},
   "outputs": [
    {
     "data": {
      "text/plain": [
       "np.True_"
      ]
     },
     "execution_count": 22,
     "metadata": {},
     "output_type": "execute_result"
    }
   ],
   "source": [
    "np.all(np.linalg.eigvals(neg_corr) > 0)"
   ]
  },
  {
   "cell_type": "code",
   "execution_count": 25,
   "id": "6898233b",
   "metadata": {},
   "outputs": [
    {
     "name": "stdout",
     "output_type": "stream",
     "text": [
      "Distress Insurance Premium: 0.07277788115999999\n"
     ]
    }
   ],
   "source": [
    "from frds.measures import DistressInsurancePremium\n",
    "\n",
    "dip_model = DistressInsurancePremium(default_probabilities, neg_corr)\n",
    "dip_value = dip_model.estimate(default_threshold=0.15)\n",
    "print(\"Distress Insurance Premium:\", dip_value)"
   ]
  },
  {
   "cell_type": "markdown",
   "id": "95c9c812",
   "metadata": {},
   "source": [
    "________________"
   ]
  },
  {
   "cell_type": "code",
   "execution_count": 26,
   "id": "5ec2fd7f",
   "metadata": {},
   "outputs": [
    {
     "data": {
      "text/plain": [
       "array([[1. , 0.6, 0.6, 0.6, 0.6, 0.6, 0.6, 0.6, 0.6, 0.6],\n",
       "       [0.6, 1. , 0.6, 0.6, 0.6, 0.6, 0.6, 0.6, 0.6, 0.6],\n",
       "       [0.6, 0.6, 1. , 0.6, 0.6, 0.6, 0.6, 0.6, 0.6, 0.6],\n",
       "       [0.6, 0.6, 0.6, 1. , 0.6, 0.6, 0.6, 0.6, 0.6, 0.6],\n",
       "       [0.6, 0.6, 0.6, 0.6, 1. , 0.6, 0.6, 0.6, 0.6, 0.6],\n",
       "       [0.6, 0.6, 0.6, 0.6, 0.6, 1. , 0.6, 0.6, 0.6, 0.6],\n",
       "       [0.6, 0.6, 0.6, 0.6, 0.6, 0.6, 1. , 0.6, 0.6, 0.6],\n",
       "       [0.6, 0.6, 0.6, 0.6, 0.6, 0.6, 0.6, 1. , 0.6, 0.6],\n",
       "       [0.6, 0.6, 0.6, 0.6, 0.6, 0.6, 0.6, 0.6, 1. , 0.6],\n",
       "       [0.6, 0.6, 0.6, 0.6, 0.6, 0.6, 0.6, 0.6, 0.6, 1. ]])"
      ]
     },
     "execution_count": 26,
     "metadata": {},
     "output_type": "execute_result"
    }
   ],
   "source": [
    "pt6_corr = np.ones((10, 10)) * 0.6\n",
    "\n",
    "zero_pt1 = np.eye(10) * 0.4\n",
    "\n",
    "pt6_corr = pt6_corr + zero_pt1\n",
    "\n",
    "pt6_corr"
   ]
  },
  {
   "cell_type": "code",
   "execution_count": 27,
   "id": "4d88f259",
   "metadata": {},
   "outputs": [
    {
     "name": "stdout",
     "output_type": "stream",
     "text": [
      "Distress Insurance Premium: 0.3846018334\n"
     ]
    }
   ],
   "source": [
    "dip_model = DistressInsurancePremium(default_probabilities, pt6_corr)\n",
    "dip_value = dip_model.estimate(default_threshold=0.15)\n",
    "print(\"Distress Insurance Premium:\", dip_value)"
   ]
  }
 ],
 "metadata": {
  "kernelspec": {
   "display_name": ".venv",
   "language": "python",
   "name": "python3"
  },
  "language_info": {
   "codemirror_mode": {
    "name": "ipython",
    "version": 3
   },
   "file_extension": ".py",
   "mimetype": "text/x-python",
   "name": "python",
   "nbconvert_exporter": "python",
   "pygments_lexer": "ipython3",
   "version": "3.13.3"
  }
 },
 "nbformat": 4,
 "nbformat_minor": 5
}
